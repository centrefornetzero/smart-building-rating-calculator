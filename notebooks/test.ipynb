{
 "cells": [
  {
   "cell_type": "code",
   "execution_count": 1,
   "metadata": {},
   "outputs": [],
   "source": [
    "import sys\n",
    "from dataclasses import dataclass, replace\n",
    "\n",
    "import pandas as pd\n",
    "\n",
    "from src.smart_building_rating_calculator.flex_archetype import FlexArchetypes\n",
    "from src.smart_building_rating_calculator.inputs import (BatterySize,\n",
    "                                                         EVChargerPower,\n",
    "                                                         HeatingSource,\n",
    "                                                         HotWaterSource,\n",
    "                                                         SolarInverterSize,\n",
    "                                                         UserInputs)\n",
    "from src.smart_building_rating_calculator.main import sbr_score\n",
    "\n",
    "sbr_val = 30\n",
    "\n",
    "rating = pd.cut(\n",
    "    [sbr_val],\n",
    "    bins=[-1, 1, 4, 6, 10, 15, 22, 100],\n",
    "    right=True,\n",
    "    labels=[\"G\", \"F\", \"E\", \"D\", \"C\", \"B\", \"A\"],\n",
    ")"
   ]
  },
  {
   "cell_type": "code",
   "execution_count": 2,
   "metadata": {},
   "outputs": [
    {
     "data": {
      "text/plain": [
       "['A']\n",
       "Categories (7, object): ['G' < 'F' < 'E' < 'D' < 'C' < 'B' < 'A']"
      ]
     },
     "execution_count": 2,
     "metadata": {},
     "output_type": "execute_result"
    }
   ],
   "source": [
    "rating"
   ]
  },
  {
   "cell_type": "code",
   "execution_count": 3,
   "metadata": {},
   "outputs": [
    {
     "name": "stdout",
     "output_type": "stream",
     "text": [
      "EV score:  3\n",
      "V2G score:  3\n",
      "Home battery score:  1\n",
      "Solar PV score:  3\n",
      "Electric heating score:  -1\n",
      "Home heating score:  4\n",
      "Alternative heating score:  2\n",
      "Hot water heating score:  1\n",
      "Alternative hot water score:  1\n"
     ]
    }
   ],
   "source": [
    "sbr_val, sbr, flex_archetype = sbr_score(\n",
    "    smart_meter=True,\n",
    "    smart_ev_charger=True,\n",
    "    charger_power=EVChargerPower.CHARGER_7KW,\n",
    "    smart_v2g_enabled=True,\n",
    "    home_battery=True,\n",
    "    battery_size=BatterySize.LARGE,\n",
    "    solar_pv=True,\n",
    "    pv_inverter_size=SolarInverterSize.LT_4KW,\n",
    "    electric_heating=True,\n",
    "    heating_source=HeatingSource.HEAT_PUMP,\n",
    "    hot_water_source=HotWaterSource.HEAT_BATTERY_OR_ELEC_HOT_WATER_TANK,\n",
    "    secondary_heating=True,\n",
    "    secondary_hot_water=True,\n",
    "    integrated_control_sys=True,\n",
    ")"
   ]
  },
  {
   "cell_type": "code",
   "execution_count": 5,
   "metadata": {},
   "outputs": [
    {
     "data": {
      "text/plain": [
       "(25.5, 'A', 'Gold Standard Flexer')"
      ]
     },
     "execution_count": 5,
     "metadata": {},
     "output_type": "execute_result"
    }
   ],
   "source": [
    "sbr_val, sbr, flex_archetype"
   ]
  },
  {
   "cell_type": "code",
   "execution_count": 5,
   "metadata": {},
   "outputs": [],
   "source": [
    "user_inputs = UserInputs(\n",
    "    smart_meter=True,\n",
    "    smart_ev_charger=True,\n",
    "    charger_power=EVChargerPower.CHARGER_7KW,\n",
    "    smart_v2g_enabled=True,\n",
    "    home_battery=True,\n",
    "    battery_size=BatterySize.LARGE,\n",
    "    solar_pv=True,\n",
    "    pv_inverter_size=SolarInverterSize.LT_4KW,\n",
    "    electric_heating=True,\n",
    "    heating_source=HeatingSource.HEAT_PUMP,\n",
    "    hot_water_source=HotWaterSource.HEAT_BATTERY_OR_ELEC_HOT_WATER_TANK,\n",
    "    secondary_heating=True,\n",
    "    secondary_hot_water=True,\n",
    "    integrated_control_sys=True,\n",
    ")"
   ]
  },
  {
   "cell_type": "code",
   "execution_count": 8,
   "metadata": {},
   "outputs": [],
   "source": [
    "battery_score = user_inputs\n",
    "features = {\n",
    "    \"home_battery\": True,\n",
    "    \"battery_size\": BatterySize.LARGE,\n",
    "    \"smart_v2g_enabled\": True,\n",
    "}\n",
    "battery_score = replace(battery_score, **features)"
   ]
  },
  {
   "cell_type": "code",
   "execution_count": 9,
   "metadata": {},
   "outputs": [],
   "source": [
    "battery_score = replace(\n",
    "    battery_score,\n",
    "    home_battery=True,\n",
    "    battery_size=BatterySize.LARGE,\n",
    "    smart_v2g_enabled=True,\n",
    ")"
   ]
  },
  {
   "cell_type": "code",
   "execution_count": 10,
   "metadata": {},
   "outputs": [
    {
     "data": {
      "text/plain": [
       "UserInputs(smart_meter=True, smart_ev_charger=True, charger_power=<EVChargerPower.CHARGER_7KW: '7 kW'>, smart_v2g_enabled=True, home_battery=True, battery_size=<BatterySize.LARGE: '8kWh or greater'>, solar_pv=True, pv_inverter_size=<SolarInverterSize.LT_4KW: '4 kW or less'>, electric_heating=True, heating_source=<HeatingSource.HEAT_PUMP: 'Heat Pump'>, hot_water_source=<HotWaterSource.HEAT_BATTERY_OR_ELEC_HOT_WATER_TANK: 'Heat Battery / Electric Hot Water Tank'>, secondary_heating=True, secondary_hot_water=True, integrated_control_sys=True)"
      ]
     },
     "execution_count": 10,
     "metadata": {},
     "output_type": "execute_result"
    }
   ],
   "source": [
    "battery_score"
   ]
  },
  {
   "cell_type": "code",
   "execution_count": 11,
   "metadata": {},
   "outputs": [
    {
     "data": {
      "text/plain": [
       "True"
      ]
     },
     "execution_count": 11,
     "metadata": {},
     "output_type": "execute_result"
    }
   ],
   "source": [
    "battery_score == user_inputs"
   ]
  },
  {
   "cell_type": "code",
   "execution_count": 12,
   "metadata": {},
   "outputs": [
    {
     "data": {
      "text/plain": [
       "UserInputs(smart_meter=True, smart_ev_charger=True, charger_power=<EVChargerPower.CHARGER_7KW: '7 kW'>, smart_v2g_enabled=True, home_battery=True, battery_size=<BatterySize.LARGE: '8kWh or greater'>, solar_pv=True, pv_inverter_size=<SolarInverterSize.LT_4KW: '4 kW or less'>, electric_heating=True, heating_source=<HeatingSource.HEAT_PUMP: 'Heat Pump'>, hot_water_source=<HotWaterSource.HEAT_BATTERY_OR_ELEC_HOT_WATER_TANK: 'Heat Battery / Electric Hot Water Tank'>, secondary_heating=True, secondary_hot_water=True, integrated_control_sys=True)"
      ]
     },
     "execution_count": 12,
     "metadata": {},
     "output_type": "execute_result"
    }
   ],
   "source": [
    "battery_score"
   ]
  },
  {
   "cell_type": "code",
   "execution_count": null,
   "metadata": {},
   "outputs": [],
   "source": []
  }
 ],
 "metadata": {
  "kernelspec": {
   "display_name": "smart-building-rating-calculator-ybEuuwir",
   "language": "python",
   "name": "python3"
  },
  "language_info": {
   "codemirror_mode": {
    "name": "ipython",
    "version": 3
   },
   "file_extension": ".py",
   "mimetype": "text/x-python",
   "name": "python",
   "nbconvert_exporter": "python",
   "pygments_lexer": "ipython3",
   "version": "3.11.9"
  }
 },
 "nbformat": 4,
 "nbformat_minor": 2
}
